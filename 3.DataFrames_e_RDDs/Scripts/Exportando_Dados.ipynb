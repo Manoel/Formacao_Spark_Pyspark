{
 "cells": [
  {
   "cell_type": "code",
   "execution_count": 1,
   "metadata": {},
   "outputs": [],
   "source": [
    "from pyspark.sql import SparkSession"
   ]
  },
  {
   "cell_type": "code",
   "execution_count": 2,
   "metadata": {},
   "outputs": [],
   "source": [
    "from pyspark.sql.types import *"
   ]
  },
  {
   "cell_type": "code",
   "execution_count": 3,
   "metadata": {},
   "outputs": [],
   "source": [
    "from pyspark.sql import functions as Func"
   ]
  },
  {
   "cell_type": "code",
   "execution_count": 4,
   "metadata": {},
   "outputs": [],
   "source": [
    "from pyspark.sql.functions import sum"
   ]
  },
  {
   "cell_type": "code",
   "execution_count": 5,
   "metadata": {},
   "outputs": [],
   "source": [
    "arqschema = \"id INT, nome STRING, status STRING, cidade STRING, vendas INT, data STRING\""
   ]
  },
  {
   "cell_type": "code",
   "execution_count": 27,
   "metadata": {},
   "outputs": [],
   "source": [
    "despachantes = spark.read.csv(\"hdfs://namenode:8020/user/manoel/data/download/despachantes.csv\", header=False, schema = arqschema)"
   ]
  },
  {
   "cell_type": "code",
   "execution_count": 28,
   "metadata": {},
   "outputs": [
    {
     "name": "stdout",
     "output_type": "stream",
     "text": [
      "+---+-------------------+------+-------------+------+----------+\n",
      "| id|               nome|status|       cidade|vendas|      data|\n",
      "+---+-------------------+------+-------------+------+----------+\n",
      "|  1|   Carminda Pestana| Ativo|  Santa Maria|    23|2020-08-11|\n",
      "|  2|    Deolinda Vilela| Ativo|Novo Hamburgo|    34|2020-03-05|\n",
      "|  3|   Emídio Dornelles| Ativo| Porto Alegre|    34|2020-02-05|\n",
      "|  4|Felisbela Dornelles| Ativo| Porto Alegre|    36|2020-02-05|\n",
      "|  5|     Graça Ornellas| Ativo| Porto Alegre|    12|2020-02-05|\n",
      "|  6|   Matilde Rebouças| Ativo| Porto Alegre|    22|2019-01-05|\n",
      "|  7|    Noêmia   Orriça| Ativo|  Santa Maria|    45|2019-10-05|\n",
      "|  8|      Roque Vásquez| Ativo| Porto Alegre|    65|2020-03-05|\n",
      "|  9|      Uriel Queiroz| Ativo| Porto Alegre|    54|2018-05-05|\n",
      "| 10|   Viviana Sequeira| Ativo| Porto Alegre|     0|2020-09-05|\n",
      "+---+-------------------+------+-------------+------+----------+\n",
      "\n"
     ]
    }
   ],
   "source": [
    "despachantes.show()"
   ]
  },
  {
   "cell_type": "code",
   "execution_count": null,
   "metadata": {},
   "outputs": [],
   "source": [
    "despachantes.write.format(\"parquet\").save(\"/home/manoel/dfimportparquet\")"
   ]
  },
  {
   "cell_type": "code",
   "execution_count": 13,
   "metadata": {
    "scrolled": true
   },
   "outputs": [
    {
     "name": "stdout",
     "output_type": "stream",
     "text": [
      "Found 2 items\r\n",
      "drwxr-xr-x   - root supergroup          0 2022-04-06 23:06 /user/hive\r\n",
      "drwxr-xr-x   - root supergroup          0 2022-04-20 01:45 /user/manoel\r\n"
     ]
    }
   ],
   "source": [
    "!hdfs dfs -ls /user"
   ]
  },
  {
   "cell_type": "code",
   "execution_count": 14,
   "metadata": {},
   "outputs": [
    {
     "name": "stdout",
     "output_type": "stream",
     "text": [
      "Found 11 items\r\n",
      "drwxr-xr-x   - root supergroup          0 2023-01-16 22:54 /user/manoel/data\r\n",
      "drwxr-xr-x   - root supergroup          0 2022-04-12 23:19 /user/manoel/juros_selic\r\n",
      "drwxr-xr-x   - root supergroup          0 2022-04-20 17:43 /user/manoel/kafka\r\n",
      "drwxr-xr-x   - root supergroup          0 2022-04-09 20:51 /user/manoel/logs_count_word\r\n",
      "drwxr-xr-x   - root supergroup          0 2022-04-09 22:35 /user/manoel/logs_count_word_5\r\n",
      "drwxr-xr-x   - root supergroup          0 2022-04-11 21:20 /user/manoel/names_us_orc\r\n",
      "drwxr-xr-x   - root supergroup          0 2022-04-11 23:53 /user/manoel/names_us_parquet\r\n",
      "drwxr-xr-x   - root supergroup          0 2022-04-18 23:34 /user/manoel/projeto_python\r\n",
      "drwxr-xr-x   - root supergroup          0 2022-04-19 01:02 /user/manoel/projeto_scala\r\n",
      "drwxr-xr-x   - root supergroup          0 2022-04-13 00:18 /user/manoel/relatorio_anual\r\n",
      "drwxr-xr-x   - root supergroup          0 2022-04-19 22:56 /user/manoel/stream\r\n"
     ]
    }
   ],
   "source": [
    "!hdfs dfs -ls /user/manoel"
   ]
  },
  {
   "cell_type": "code",
   "execution_count": 15,
   "metadata": {},
   "outputs": [
    {
     "name": "stdout",
     "output_type": "stream",
     "text": [
      "Found 1 items\r\n",
      "drwxr-xr-x   - root supergroup          0 2023-01-22 20:59 /home/manoel/dfimportparquet\r\n"
     ]
    }
   ],
   "source": [
    "!hdfs dfs -ls /home/manoel"
   ]
  },
  {
   "cell_type": "code",
   "execution_count": 16,
   "metadata": {
    "scrolled": true
   },
   "outputs": [
    {
     "name": "stdout",
     "output_type": "stream",
     "text": [
      "Found 2 items\r\n",
      "-rw-r--r--   2 root supergroup          0 2023-01-22 20:59 /home/manoel/dfimportparquet/_SUCCESS\r\n",
      "-rw-r--r--   2 root supergroup       1917 2023-01-22 20:59 /home/manoel/dfimportparquet/part-00000-2b5e5c95-75c3-4b2b-9ff1-36070a201ddf-c000.snappy.parquet\r\n"
     ]
    }
   ],
   "source": [
    "!hdfs dfs -ls /home/manoel/dfimportparquet"
   ]
  },
  {
   "cell_type": "code",
   "execution_count": 17,
   "metadata": {},
   "outputs": [],
   "source": [
    "despachantes.write.format(\"parquet\").save(\"hdfs://namenode:8020/user/manoel/data/dfimportparquet\")"
   ]
  },
  {
   "cell_type": "code",
   "execution_count": 18,
   "metadata": {},
   "outputs": [],
   "source": [
    "despachantes.write.format(\"csv\").save(\"hdfs://namenode:8020/user/manoel/data/dfimportcsv\")"
   ]
  },
  {
   "cell_type": "code",
   "execution_count": 19,
   "metadata": {},
   "outputs": [],
   "source": [
    "despachantes.write.format(\"json\").save(\"hdfs://namenode:8020/user/manoel/data/dfimportjson\")"
   ]
  },
  {
   "cell_type": "code",
   "execution_count": 20,
   "metadata": {},
   "outputs": [],
   "source": [
    "despachantes.write.format(\"orc\").save(\"hdfs://namenode:8020/user/manoel/data/dfimportorc\")"
   ]
  },
  {
   "cell_type": "code",
   "execution_count": 25,
   "metadata": {},
   "outputs": [
    {
     "name": "stdout",
     "output_type": "stream",
     "text": [
      "Found 6 items\r\n",
      "drwxr-xr-x   - root supergroup          0 2023-01-22 21:31 /user/manoel/data/dfimportcsv\r\n",
      "drwxr-xr-x   - root supergroup          0 2023-01-22 21:32 /user/manoel/data/dfimportjson\r\n",
      "drwxr-xr-x   - root supergroup          0 2023-01-22 21:32 /user/manoel/data/dfimportorc\r\n",
      "drwxr-xr-x   - root supergroup          0 2023-01-22 21:31 /user/manoel/data/dfimportparquet\r\n",
      "drwxr-xr-x   - root supergroup          0 2023-01-16 22:54 /user/manoel/data/download\r\n",
      "drwxr-xr-x   - root supergroup          0 2022-04-07 00:25 /user/manoel/data/exercises-data\r\n"
     ]
    }
   ],
   "source": [
    "!hdfs dfs -ls /user/manoel/data/"
   ]
  },
  {
   "cell_type": "code",
   "execution_count": 21,
   "metadata": {},
   "outputs": [
    {
     "name": "stdout",
     "output_type": "stream",
     "text": [
      "Found 2 items\r\n",
      "-rw-r--r--   2 root supergroup          0 2023-01-22 21:31 /user/manoel/data/dfimportparquet/_SUCCESS\r\n",
      "-rw-r--r--   2 root supergroup       1917 2023-01-22 21:31 /user/manoel/data/dfimportparquet/part-00000-4eaa9907-2019-4336-95cd-c592869d9317-c000.snappy.parquet\r\n"
     ]
    }
   ],
   "source": [
    "!hdfs dfs -ls /user/manoel/data/dfimportparquet"
   ]
  },
  {
   "cell_type": "code",
   "execution_count": 22,
   "metadata": {},
   "outputs": [
    {
     "name": "stdout",
     "output_type": "stream",
     "text": [
      "Found 2 items\r\n",
      "-rw-r--r--   2 root supergroup          0 2023-01-22 21:31 /user/manoel/data/dfimportcsv/_SUCCESS\r\n",
      "-rw-r--r--   2 root supergroup        518 2023-01-22 21:31 /user/manoel/data/dfimportcsv/part-00000-60b18e8b-8135-4559-9f23-ffd8aa02845d-c000.csv\r\n"
     ]
    }
   ],
   "source": [
    "!hdfs dfs -ls /user/manoel/data/dfimportcsv"
   ]
  },
  {
   "cell_type": "code",
   "execution_count": 23,
   "metadata": {},
   "outputs": [
    {
     "name": "stdout",
     "output_type": "stream",
     "text": [
      "Found 2 items\r\n",
      "-rw-r--r--   2 root supergroup          0 2023-01-22 21:32 /user/manoel/data/dfimportjson/_SUCCESS\r\n",
      "-rw-r--r--   2 root supergroup       1078 2023-01-22 21:32 /user/manoel/data/dfimportjson/part-00000-227b8650-1109-4937-8213-655baaef9d43-c000.json\r\n"
     ]
    }
   ],
   "source": [
    "!hdfs dfs -ls /user/manoel/data/dfimportjson"
   ]
  },
  {
   "cell_type": "code",
   "execution_count": 24,
   "metadata": {},
   "outputs": [
    {
     "name": "stdout",
     "output_type": "stream",
     "text": [
      "Found 2 items\r\n",
      "-rw-r--r--   2 root supergroup          0 2023-01-22 21:32 /user/manoel/data/dfimportorc/_SUCCESS\r\n",
      "-rw-r--r--   2 root supergroup       1281 2023-01-22 21:32 /user/manoel/data/dfimportorc/part-00000-2476b4d2-4bd1-4cb3-b60b-ad1f77fea8c1-c000.snappy.orc\r\n"
     ]
    }
   ],
   "source": [
    "!hdfs dfs -ls /user/manoel/data/dfimportorc"
   ]
  },
  {
   "cell_type": "code",
   "execution_count": 29,
   "metadata": {
    "scrolled": true
   },
   "outputs": [
    {
     "name": "stdout",
     "output_type": "stream",
     "text": [
      "+---+-------------------+------+-------------+------+----------+\n",
      "| id|               nome|status|       cidade|vendas|      data|\n",
      "+---+-------------------+------+-------------+------+----------+\n",
      "|  1|   Carminda Pestana| Ativo|  Santa Maria|    23|2020-08-11|\n",
      "|  2|    Deolinda Vilela| Ativo|Novo Hamburgo|    34|2020-03-05|\n",
      "|  3|   Emídio Dornelles| Ativo| Porto Alegre|    34|2020-02-05|\n",
      "|  4|Felisbela Dornelles| Ativo| Porto Alegre|    36|2020-02-05|\n",
      "|  5|     Graça Ornellas| Ativo| Porto Alegre|    12|2020-02-05|\n",
      "|  6|   Matilde Rebouças| Ativo| Porto Alegre|    22|2019-01-05|\n",
      "|  7|    Noêmia   Orriça| Ativo|  Santa Maria|    45|2019-10-05|\n",
      "|  8|      Roque Vásquez| Ativo| Porto Alegre|    65|2020-03-05|\n",
      "|  9|      Uriel Queiroz| Ativo| Porto Alegre|    54|2018-05-05|\n",
      "| 10|   Viviana Sequeira| Ativo| Porto Alegre|     0|2020-09-05|\n",
      "+---+-------------------+------+-------------+------+----------+\n",
      "\n"
     ]
    }
   ],
   "source": [
    "despachantes = spark.read.csv(\"hdfs://namenode:8020/user/manoel/data/dfimportcsv/part-00000-60b18e8b-8135-4559-9f23-ffd8aa02845d-c000.csv\", header=False, schema = arqschema).show()"
   ]
  },
  {
   "cell_type": "code",
   "execution_count": 31,
   "metadata": {},
   "outputs": [
    {
     "name": "stdout",
     "output_type": "stream",
     "text": [
      "+--------+--------------------+----------------+--------------------+-----------+--------------------+\n",
      "|     _c0|                 _c1|             _c2|                 _c3|        _c4|                 _c5|\n",
      "+--------+--------------------+----------------+--------------------+-----------+--------------------+\n",
      "| {\"id\":1|\"nome\":\"Carminda ...|\"status\":\"Ativo\"|\"cidade\":\"Santa M...|\"vendas\":23|\"data\":\"2020-08-11\"}|\n",
      "| {\"id\":2|\"nome\":\"Deolinda ...|\"status\":\"Ativo\"|\"cidade\":\"Novo Ha...|\"vendas\":34|\"data\":\"2020-03-05\"}|\n",
      "| {\"id\":3|\"nome\":\"Emídio Do...|\"status\":\"Ativo\"|\"cidade\":\"Porto A...|\"vendas\":34|\"data\":\"2020-02-05\"}|\n",
      "| {\"id\":4|\"nome\":\"Felisbela...|\"status\":\"Ativo\"|\"cidade\":\"Porto A...|\"vendas\":36|\"data\":\"2020-02-05\"}|\n",
      "| {\"id\":5|\"nome\":\"Graça Orn...|\"status\":\"Ativo\"|\"cidade\":\"Porto A...|\"vendas\":12|\"data\":\"2020-02-05\"}|\n",
      "| {\"id\":6|\"nome\":\"Matilde R...|\"status\":\"Ativo\"|\"cidade\":\"Porto A...|\"vendas\":22|\"data\":\"2019-01-05\"}|\n",
      "| {\"id\":7|\"nome\":\"Noêmia   ...|\"status\":\"Ativo\"|\"cidade\":\"Santa M...|\"vendas\":45|\"data\":\"2019-10-05\"}|\n",
      "| {\"id\":8|\"nome\":\"Roque Vás...|\"status\":\"Ativo\"|\"cidade\":\"Porto A...|\"vendas\":65|\"data\":\"2020-03-05\"}|\n",
      "| {\"id\":9|\"nome\":\"Uriel Que...|\"status\":\"Ativo\"|\"cidade\":\"Porto A...|\"vendas\":54|\"data\":\"2018-05-05\"}|\n",
      "|{\"id\":10|\"nome\":\"Viviana S...|\"status\":\"Ativo\"|\"cidade\":\"Porto A...| \"vendas\":0|\"data\":\"2020-09-05\"}|\n",
      "+--------+--------------------+----------------+--------------------+-----------+--------------------+\n",
      "\n"
     ]
    }
   ],
   "source": [
    "despachantes = spark.read.csv(\"hdfs://namenode:8020/user/manoel/data/dfimportjson/part-00000-227b8650-1109-4937-8213-655baaef9d43-c000.json\").show()"
   ]
  }
 ],
 "metadata": {
  "kernelspec": {
   "display_name": "PySpark",
   "language": "python",
   "name": "pyspark"
  },
  "language_info": {
   "codemirror_mode": {
    "name": "ipython",
    "version": 3
   },
   "file_extension": ".py",
   "mimetype": "text/x-python",
   "name": "python",
   "nbconvert_exporter": "python",
   "pygments_lexer": "ipython3",
   "version": "3.6.10"
  }
 },
 "nbformat": 4,
 "nbformat_minor": 2
}
