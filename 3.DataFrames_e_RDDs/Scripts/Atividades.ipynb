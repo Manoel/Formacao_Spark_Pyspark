{
 "cells": [
  {
   "cell_type": "markdown",
   "metadata": {},
   "source": [
    "## Atividades - Resolver com DataFrames"
   ]
  },
  {
   "cell_type": "markdown",
   "metadata": {},
   "source": [
    "## Crie uma consulta que mostre, nesta ordem, Nome, Estados e Status."
   ]
  },
  {
   "cell_type": "code",
   "execution_count": 97,
   "metadata": {},
   "outputs": [],
   "source": [
    "from pyspark.sql import *\n",
    "from pyspark.sql.types import *\n",
    "from pyspark.sql import functions as Func"
   ]
  },
  {
   "cell_type": "code",
   "execution_count": 98,
   "metadata": {
    "scrolled": true
   },
   "outputs": [
    {
     "name": "stdout",
     "output_type": "stream",
     "text": [
      "Found 5 items\r\n",
      "-rw-r--r--   3 root supergroup       9311 2023-01-16 22:54 /user/manoel/data/download/Atividades/Clientes.parquet\r\n",
      "-rw-r--r--   3 root supergroup      21142 2023-01-16 22:54 /user/manoel/data/download/Atividades/ItensVendas.parquet\r\n",
      "-rw-r--r--   3 root supergroup       3490 2023-01-16 22:54 /user/manoel/data/download/Atividades/Produtos.parquet\r\n",
      "-rw-r--r--   3 root supergroup      11882 2023-01-16 22:54 /user/manoel/data/download/Atividades/Vendas.parquet\r\n",
      "-rw-r--r--   3 root supergroup       2589 2023-01-16 22:54 /user/manoel/data/download/Atividades/Vendedores.parquet\r\n"
     ]
    }
   ],
   "source": [
    "!hdfs dfs -ls /user/manoel/data/download/Atividades"
   ]
  },
  {
   "cell_type": "code",
   "execution_count": 108,
   "metadata": {},
   "outputs": [],
   "source": [
    "clientes = spark.read.load(\"/user/manoel/data/download/Atividades/Clientes.parquet\")"
   ]
  },
  {
   "cell_type": "code",
   "execution_count": 114,
   "metadata": {},
   "outputs": [],
   "source": [
    "dados_cliente = clientes.select(\"Cliente\",\"Estado\",\"Status\")"
   ]
  },
  {
   "cell_type": "code",
   "execution_count": 115,
   "metadata": {},
   "outputs": [
    {
     "name": "stdout",
     "output_type": "stream",
     "text": [
      "+--------------------+------+--------+\n",
      "|             Cliente|Estado|  Status|\n",
      "+--------------------+------+--------+\n",
      "|Adelina Buenaventura|    RJ|  Silver|\n",
      "|        Adelino Gago|    RJ|  Silver|\n",
      "|     Adolfo Patrício|    PE|  Silver|\n",
      "|    Adriana Guedelha|    RO|Platinum|\n",
      "|       Adélio Lisboa|    SE|  Silver|\n",
      "|       Adérito Bahía|    MA|  Silver|\n",
      "|       Aida Dorneles|    RN|  Silver|\n",
      "|   Alarico Quinterno|    AC|  Silver|\n",
      "|    Alberto Cezimbra|    AM|  Silver|\n",
      "|    Alberto Monsanto|    RN|    Gold|\n",
      "|       Albino Canela|    AC|  Silver|\n",
      "|     Alceste Varanda|    RR|  Silver|\n",
      "|  Alcides Carvalhais|    RO|  Silver|\n",
      "|        Aldo Martins|    GO|  Silver|\n",
      "|   Alexandra Tabares|    MG|  Silver|\n",
      "|      Alfredo Cotrim|    SC|  Silver|\n",
      "|     Almeno Figueira|    SC|  Silver|\n",
      "|      Alvito Peralta|    AM|  Silver|\n",
      "|     Amadeu Martinho|    RN|  Silver|\n",
      "|      Amélia Estévez|    PE|  Silver|\n",
      "+--------------------+------+--------+\n",
      "only showing top 20 rows\n",
      "\n"
     ]
    }
   ],
   "source": [
    "dados_cliente.show()"
   ]
  },
  {
   "cell_type": "markdown",
   "metadata": {},
   "source": [
    "## Crie uma consulta que mostre apenas os clientes do Status \"Platinum\" e \"Gold\"."
   ]
  },
  {
   "cell_type": "code",
   "execution_count": 121,
   "metadata": {},
   "outputs": [],
   "source": [
    "stastus_cli = clientes.select(\"Cliente\", \"Estado\", \"Status\").where((Func.col(\"Status\") == \"Platinum\") | (Func.col(\"Status\") == \"Gold\")).orderBy(\"Status\")"
   ]
  },
  {
   "cell_type": "code",
   "execution_count": 122,
   "metadata": {},
   "outputs": [
    {
     "name": "stdout",
     "output_type": "stream",
     "text": [
      "+-------------------+------+--------+\n",
      "|            Cliente|Estado|  Status|\n",
      "+-------------------+------+--------+\n",
      "|      Carminda Dias|    AM|    Gold|\n",
      "|   Alberto Monsanto|    RN|    Gold|\n",
      "|   Firmino Meireles|    AM|    Gold|\n",
      "|Honorina Villaverde|    PE|    Gold|\n",
      "|  Iracema Rodríguez|    BA|    Gold|\n",
      "|      Cláudio Jorge|    TO|    Gold|\n",
      "|      Anna Carvajal|    RS|    Gold|\n",
      "|    Dionísio Saltão|    PR|    Gold|\n",
      "|      Bento Quintão|    SP|    Gold|\n",
      "|   Adriana Guedelha|    RO|Platinum|\n",
      "|      Flor Vilanova|    CE|Platinum|\n",
      "|    Ibijara Botelho|    RR|Platinum|\n",
      "|         Joana Ataí|    GO|Platinum|\n",
      "+-------------------+------+--------+\n",
      "\n"
     ]
    }
   ],
   "source": [
    "stastus_cli.show()"
   ]
  },
  {
   "cell_type": "markdown",
   "metadata": {},
   "source": [
    "## Demostre quanto cada Status de Clientes representa em vendas?"
   ]
  },
  {
   "cell_type": "code",
   "execution_count": 111,
   "metadata": {},
   "outputs": [],
   "source": [
    "Vendas = spark.read.load(\"/user/manoel/data/download/Atividades/Vendas.parquet\")"
   ]
  },
  {
   "cell_type": "code",
   "execution_count": 118,
   "metadata": {
    "scrolled": true
   },
   "outputs": [
    {
     "name": "stdout",
     "output_type": "stream",
     "text": [
      "+--------+----------+---------+---------+--------+\n",
      "|VendasID|VendedorID|ClienteID|     Data|   Total|\n",
      "+--------+----------+---------+---------+--------+\n",
      "|       1|         1|       91| 1/1/2019|  8053.6|\n",
      "|       2|         6|      185| 1/1/2020|   150.4|\n",
      "|       3|         7|       31| 2/1/2020|  6087.0|\n",
      "|       4|         5|       31| 2/1/2019| 13828.6|\n",
      "|       5|         5|       31| 3/1/2018|26096.66|\n",
      "|       6|         5|       31| 4/1/2020| 18402.0|\n",
      "|       7|         5|       31| 6/1/2019|  7524.2|\n",
      "|       8|         5|      186| 6/1/2019| 12036.6|\n",
      "|       9|         7|       91| 6/1/2020| 2804.75|\n",
      "|      10|         2|      202| 6/1/2020|  8852.0|\n",
      "|      11|         7|       58| 8/1/2019|16545.25|\n",
      "|      12|         7|       58| 9/1/2018|11411.88|\n",
      "|      13|         7|       58|10/1/2019| 15829.7|\n",
      "|      14|         3|      249|12/1/2020| 6154.36|\n",
      "|      15|         4|      249|12/1/2018| 3255.08|\n",
      "|      16|         7|      192|13/1/2020| 2901.25|\n",
      "|      17|         2|       79|13/1/2019| 15829.7|\n",
      "|      18|        10|       79|14/1/2019|16996.36|\n",
      "|      19|        10|      191|14/1/2019|   155.0|\n",
      "|      20|         9|      218|15/1/2018|  131.75|\n",
      "+--------+----------+---------+---------+--------+\n",
      "only showing top 20 rows\n",
      "\n"
     ]
    }
   ],
   "source": [
    "Vendas.show()"
   ]
  },
  {
   "cell_type": "code",
   "execution_count": 143,
   "metadata": {},
   "outputs": [],
   "source": [
    "join_clientes_vendas = clientes.join(Vendas, clientes.ClienteID == Vendas.ClienteID, 'inner').select(clientes.ClienteID, clientes.Status, Vendas.Total).groupBy(clientes.Status).agg(sum(\"Total\")).orderBy(Func.col(\"sum(Total)\").desc())"
   ]
  },
  {
   "cell_type": "code",
   "execution_count": 144,
   "metadata": {},
   "outputs": [
    {
     "name": "stdout",
     "output_type": "stream",
     "text": [
      "+--------+------------------+\n",
      "|  Status|        sum(Total)|\n",
      "+--------+------------------+\n",
      "|  Silver|        3014291.36|\n",
      "|    Gold|27286.690000000002|\n",
      "|Platinum|          12584.68|\n",
      "+--------+------------------+\n",
      "\n"
     ]
    }
   ],
   "source": [
    "join_clientes_vendas.show()"
   ]
  }
 ],
 "metadata": {
  "kernelspec": {
   "display_name": "PySpark",
   "language": "python",
   "name": "pyspark"
  },
  "language_info": {
   "codemirror_mode": {
    "name": "ipython",
    "version": 3
   },
   "file_extension": ".py",
   "mimetype": "text/x-python",
   "name": "python",
   "nbconvert_exporter": "python",
   "pygments_lexer": "ipython3",
   "version": "3.6.10"
  }
 },
 "nbformat": 4,
 "nbformat_minor": 2
}
